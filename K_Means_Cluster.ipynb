{
  "nbformat": 4,
  "nbformat_minor": 0,
  "metadata": {
    "colab": {
      "name": "K-Means_Cluster.ipynb",
      "provenance": [],
      "collapsed_sections": [],
      "toc_visible": true
    },
    "kernelspec": {
      "name": "python3",
      "display_name": "Python 3"
    },
    "language_info": {
      "name": "python"
    },
    "accelerator": "GPU",
    "gpuClass": "standard"
  },
  "cells": [
    {
      "cell_type": "markdown",
      "source": [
        "#K-Means Clustering"
      ],
      "metadata": {
        "id": "db0d_X6VC7kJ"
      }
    },
    {
      "cell_type": "markdown",
      "source": [
        "# Import Library"
      ],
      "metadata": {
        "id": "c42D_oqYW_jp"
      }
    },
    {
      "cell_type": "code",
      "execution_count": null,
      "metadata": {
        "id": "7uMY8FduVkTG"
      },
      "outputs": [],
      "source": [
        "# Import Library\n",
        "import numpy as np\n",
        "import pandas as pd\n",
        "import pandas_profiling as pp\n",
        "from sklearn.cluster import KMeans\n",
        "from sklearn.metrics import silhouette_score\n",
        "import matplotlib.pyplot as plt\n",
        "import seaborn as sns"
      ]
    },
    {
      "cell_type": "markdown",
      "source": [
        "#Read data"
      ],
      "metadata": {
        "id": "gWiwKOb2XEYr"
      }
    },
    {
      "cell_type": "code",
      "source": [
        "#import data\n",
        "df = pd.read_csv('/content/users.csv')"
      ],
      "metadata": {
        "id": "ahZu9aDLNN3N"
      },
      "execution_count": null,
      "outputs": []
    },
    {
      "cell_type": "code",
      "execution_count": null,
      "metadata": {
        "id": "s4aq8KMqdjM3",
        "colab": {
          "base_uri": "https://localhost:8080/",
          "height": 357
        },
        "outputId": "24444896-5791-445d-e12b-c235a7c9f613"
      },
      "outputs": [
        {
          "output_type": "execute_result",
          "data": {
            "text/plain": [
              "      id first_name last_name                      email  age gender state  \\\n",
              "0  19279      Heidi   Jackson   heidijackson@example.org   50      F   Mie   \n",
              "1   5678    Michael    Brooks  michaelbrooks@example.org   58      M  Acre   \n",
              "2  29694      Scott  Anderson  scottanderson@example.org   60      M  Acre   \n",
              "3  29967       Mike      Beck       mikebeck@example.org   12      M  Acre   \n",
              "4  47096      Holly   Kennedy   hollykennedy@example.org   68      F  Acre   \n",
              "\n",
              "                 street_address postal_code         city country   latitude  \\\n",
              "0  894 Nicholas Curve Suite 865    513-0836  Suzuka City   Japan  34.851814   \n",
              "1              0549 Deanna Land   69917-400   Rio Branco  Brasil  -9.945568   \n",
              "2   8979 Stephens Oval Apt. 816   69917-400   Rio Branco  Brasil  -9.945568   \n",
              "3    76404 Michael Way Apt. 377   69917-400   Rio Branco  Brasil  -9.945568   \n",
              "4         23658 Santana Mission   69917-400   Rio Branco  Brasil  -9.945568   \n",
              "\n",
              "    longitude traffic_source                 created_at  \n",
              "0  136.508713         Search  2020-11-07 12:40:00+00:00  \n",
              "1  -67.835610          Email  2019-07-28 04:20:00+00:00  \n",
              "2  -67.835610       Facebook  2019-08-16 17:06:00+00:00  \n",
              "3  -67.835610         Search  2019-05-09 12:08:00+00:00  \n",
              "4  -67.835610         Search  2019-05-24 15:53:00+00:00  "
            ],
            "text/html": [
              "\n",
              "  <div id=\"df-b4e81bd9-8483-46de-a544-adfaef3be782\">\n",
              "    <div class=\"colab-df-container\">\n",
              "      <div>\n",
              "<style scoped>\n",
              "    .dataframe tbody tr th:only-of-type {\n",
              "        vertical-align: middle;\n",
              "    }\n",
              "\n",
              "    .dataframe tbody tr th {\n",
              "        vertical-align: top;\n",
              "    }\n",
              "\n",
              "    .dataframe thead th {\n",
              "        text-align: right;\n",
              "    }\n",
              "</style>\n",
              "<table border=\"1\" class=\"dataframe\">\n",
              "  <thead>\n",
              "    <tr style=\"text-align: right;\">\n",
              "      <th></th>\n",
              "      <th>id</th>\n",
              "      <th>first_name</th>\n",
              "      <th>last_name</th>\n",
              "      <th>email</th>\n",
              "      <th>age</th>\n",
              "      <th>gender</th>\n",
              "      <th>state</th>\n",
              "      <th>street_address</th>\n",
              "      <th>postal_code</th>\n",
              "      <th>city</th>\n",
              "      <th>country</th>\n",
              "      <th>latitude</th>\n",
              "      <th>longitude</th>\n",
              "      <th>traffic_source</th>\n",
              "      <th>created_at</th>\n",
              "    </tr>\n",
              "  </thead>\n",
              "  <tbody>\n",
              "    <tr>\n",
              "      <th>0</th>\n",
              "      <td>19279</td>\n",
              "      <td>Heidi</td>\n",
              "      <td>Jackson</td>\n",
              "      <td>heidijackson@example.org</td>\n",
              "      <td>50</td>\n",
              "      <td>F</td>\n",
              "      <td>Mie</td>\n",
              "      <td>894 Nicholas Curve Suite 865</td>\n",
              "      <td>513-0836</td>\n",
              "      <td>Suzuka City</td>\n",
              "      <td>Japan</td>\n",
              "      <td>34.851814</td>\n",
              "      <td>136.508713</td>\n",
              "      <td>Search</td>\n",
              "      <td>2020-11-07 12:40:00+00:00</td>\n",
              "    </tr>\n",
              "    <tr>\n",
              "      <th>1</th>\n",
              "      <td>5678</td>\n",
              "      <td>Michael</td>\n",
              "      <td>Brooks</td>\n",
              "      <td>michaelbrooks@example.org</td>\n",
              "      <td>58</td>\n",
              "      <td>M</td>\n",
              "      <td>Acre</td>\n",
              "      <td>0549 Deanna Land</td>\n",
              "      <td>69917-400</td>\n",
              "      <td>Rio Branco</td>\n",
              "      <td>Brasil</td>\n",
              "      <td>-9.945568</td>\n",
              "      <td>-67.835610</td>\n",
              "      <td>Email</td>\n",
              "      <td>2019-07-28 04:20:00+00:00</td>\n",
              "    </tr>\n",
              "    <tr>\n",
              "      <th>2</th>\n",
              "      <td>29694</td>\n",
              "      <td>Scott</td>\n",
              "      <td>Anderson</td>\n",
              "      <td>scottanderson@example.org</td>\n",
              "      <td>60</td>\n",
              "      <td>M</td>\n",
              "      <td>Acre</td>\n",
              "      <td>8979 Stephens Oval Apt. 816</td>\n",
              "      <td>69917-400</td>\n",
              "      <td>Rio Branco</td>\n",
              "      <td>Brasil</td>\n",
              "      <td>-9.945568</td>\n",
              "      <td>-67.835610</td>\n",
              "      <td>Facebook</td>\n",
              "      <td>2019-08-16 17:06:00+00:00</td>\n",
              "    </tr>\n",
              "    <tr>\n",
              "      <th>3</th>\n",
              "      <td>29967</td>\n",
              "      <td>Mike</td>\n",
              "      <td>Beck</td>\n",
              "      <td>mikebeck@example.org</td>\n",
              "      <td>12</td>\n",
              "      <td>M</td>\n",
              "      <td>Acre</td>\n",
              "      <td>76404 Michael Way Apt. 377</td>\n",
              "      <td>69917-400</td>\n",
              "      <td>Rio Branco</td>\n",
              "      <td>Brasil</td>\n",
              "      <td>-9.945568</td>\n",
              "      <td>-67.835610</td>\n",
              "      <td>Search</td>\n",
              "      <td>2019-05-09 12:08:00+00:00</td>\n",
              "    </tr>\n",
              "    <tr>\n",
              "      <th>4</th>\n",
              "      <td>47096</td>\n",
              "      <td>Holly</td>\n",
              "      <td>Kennedy</td>\n",
              "      <td>hollykennedy@example.org</td>\n",
              "      <td>68</td>\n",
              "      <td>F</td>\n",
              "      <td>Acre</td>\n",
              "      <td>23658 Santana Mission</td>\n",
              "      <td>69917-400</td>\n",
              "      <td>Rio Branco</td>\n",
              "      <td>Brasil</td>\n",
              "      <td>-9.945568</td>\n",
              "      <td>-67.835610</td>\n",
              "      <td>Search</td>\n",
              "      <td>2019-05-24 15:53:00+00:00</td>\n",
              "    </tr>\n",
              "  </tbody>\n",
              "</table>\n",
              "</div>\n",
              "      <button class=\"colab-df-convert\" onclick=\"convertToInteractive('df-b4e81bd9-8483-46de-a544-adfaef3be782')\"\n",
              "              title=\"Convert this dataframe to an interactive table.\"\n",
              "              style=\"display:none;\">\n",
              "        \n",
              "  <svg xmlns=\"http://www.w3.org/2000/svg\" height=\"24px\"viewBox=\"0 0 24 24\"\n",
              "       width=\"24px\">\n",
              "    <path d=\"M0 0h24v24H0V0z\" fill=\"none\"/>\n",
              "    <path d=\"M18.56 5.44l.94 2.06.94-2.06 2.06-.94-2.06-.94-.94-2.06-.94 2.06-2.06.94zm-11 1L8.5 8.5l.94-2.06 2.06-.94-2.06-.94L8.5 2.5l-.94 2.06-2.06.94zm10 10l.94 2.06.94-2.06 2.06-.94-2.06-.94-.94-2.06-.94 2.06-2.06.94z\"/><path d=\"M17.41 7.96l-1.37-1.37c-.4-.4-.92-.59-1.43-.59-.52 0-1.04.2-1.43.59L10.3 9.45l-7.72 7.72c-.78.78-.78 2.05 0 2.83L4 21.41c.39.39.9.59 1.41.59.51 0 1.02-.2 1.41-.59l7.78-7.78 2.81-2.81c.8-.78.8-2.07 0-2.86zM5.41 20L4 18.59l7.72-7.72 1.47 1.35L5.41 20z\"/>\n",
              "  </svg>\n",
              "      </button>\n",
              "      \n",
              "  <style>\n",
              "    .colab-df-container {\n",
              "      display:flex;\n",
              "      flex-wrap:wrap;\n",
              "      gap: 12px;\n",
              "    }\n",
              "\n",
              "    .colab-df-convert {\n",
              "      background-color: #E8F0FE;\n",
              "      border: none;\n",
              "      border-radius: 50%;\n",
              "      cursor: pointer;\n",
              "      display: none;\n",
              "      fill: #1967D2;\n",
              "      height: 32px;\n",
              "      padding: 0 0 0 0;\n",
              "      width: 32px;\n",
              "    }\n",
              "\n",
              "    .colab-df-convert:hover {\n",
              "      background-color: #E2EBFA;\n",
              "      box-shadow: 0px 1px 2px rgba(60, 64, 67, 0.3), 0px 1px 3px 1px rgba(60, 64, 67, 0.15);\n",
              "      fill: #174EA6;\n",
              "    }\n",
              "\n",
              "    [theme=dark] .colab-df-convert {\n",
              "      background-color: #3B4455;\n",
              "      fill: #D2E3FC;\n",
              "    }\n",
              "\n",
              "    [theme=dark] .colab-df-convert:hover {\n",
              "      background-color: #434B5C;\n",
              "      box-shadow: 0px 1px 3px 1px rgba(0, 0, 0, 0.15);\n",
              "      filter: drop-shadow(0px 1px 2px rgba(0, 0, 0, 0.3));\n",
              "      fill: #FFFFFF;\n",
              "    }\n",
              "  </style>\n",
              "\n",
              "      <script>\n",
              "        const buttonEl =\n",
              "          document.querySelector('#df-b4e81bd9-8483-46de-a544-adfaef3be782 button.colab-df-convert');\n",
              "        buttonEl.style.display =\n",
              "          google.colab.kernel.accessAllowed ? 'block' : 'none';\n",
              "\n",
              "        async function convertToInteractive(key) {\n",
              "          const element = document.querySelector('#df-b4e81bd9-8483-46de-a544-adfaef3be782');\n",
              "          const dataTable =\n",
              "            await google.colab.kernel.invokeFunction('convertToInteractive',\n",
              "                                                     [key], {});\n",
              "          if (!dataTable) return;\n",
              "\n",
              "          const docLinkHtml = 'Like what you see? Visit the ' +\n",
              "            '<a target=\"_blank\" href=https://colab.research.google.com/notebooks/data_table.ipynb>data table notebook</a>'\n",
              "            + ' to learn more about interactive tables.';\n",
              "          element.innerHTML = '';\n",
              "          dataTable['output_type'] = 'display_data';\n",
              "          await google.colab.output.renderOutput(dataTable, element);\n",
              "          const docLink = document.createElement('div');\n",
              "          docLink.innerHTML = docLinkHtml;\n",
              "          element.appendChild(docLink);\n",
              "        }\n",
              "      </script>\n",
              "    </div>\n",
              "  </div>\n",
              "  "
            ]
          },
          "metadata": {},
          "execution_count": 3
        }
      ],
      "source": [
        "df.head()"
      ]
    },
    {
      "cell_type": "code",
      "source": [
        "#drop data\n",
        "data = df.drop(['first_name', 'last_name', 'email', 'state',\n",
        "                  'street_address', 'postal_code','latitude',\n",
        "                'longitude','city'], axis=1)\n",
        "data"
      ],
      "metadata": {
        "colab": {
          "base_uri": "https://localhost:8080/",
          "height": 424
        },
        "id": "-ee5QDsRgJQq",
        "outputId": "ed006640-be75-4a3c-ba3c-24f047091dc5"
      },
      "execution_count": null,
      "outputs": [
        {
          "output_type": "execute_result",
          "data": {
            "text/plain": [
              "          id  age gender      country traffic_source  \\\n",
              "0      19279   50      F        Japan         Search   \n",
              "1       5678   58      M       Brasil          Email   \n",
              "2      29694   60      M       Brasil       Facebook   \n",
              "3      29967   12      M       Brasil         Search   \n",
              "4      47096   68      F       Brasil         Search   \n",
              "...      ...  ...    ...          ...            ...   \n",
              "99995  91847   67      F  South Korea       Facebook   \n",
              "99996  12802   35      F  South Korea          Email   \n",
              "99997  28309   59      M  South Korea          Email   \n",
              "99998  35063   23      F  South Korea         Search   \n",
              "99999  43199   33      F  South Korea        Organic   \n",
              "\n",
              "                      created_at  \n",
              "0      2020-11-07 12:40:00+00:00  \n",
              "1      2019-07-28 04:20:00+00:00  \n",
              "2      2019-08-16 17:06:00+00:00  \n",
              "3      2019-05-09 12:08:00+00:00  \n",
              "4      2019-05-24 15:53:00+00:00  \n",
              "...                          ...  \n",
              "99995  2021-03-28 13:47:00+00:00  \n",
              "99996  2020-01-17 09:21:00+00:00  \n",
              "99997  2021-12-16 03:27:00+00:00  \n",
              "99998  2019-03-07 05:46:00+00:00  \n",
              "99999  2019-09-28 13:20:00+00:00  \n",
              "\n",
              "[100000 rows x 6 columns]"
            ],
            "text/html": [
              "\n",
              "  <div id=\"df-021a573c-6252-426a-b2b0-70ff80f0868f\">\n",
              "    <div class=\"colab-df-container\">\n",
              "      <div>\n",
              "<style scoped>\n",
              "    .dataframe tbody tr th:only-of-type {\n",
              "        vertical-align: middle;\n",
              "    }\n",
              "\n",
              "    .dataframe tbody tr th {\n",
              "        vertical-align: top;\n",
              "    }\n",
              "\n",
              "    .dataframe thead th {\n",
              "        text-align: right;\n",
              "    }\n",
              "</style>\n",
              "<table border=\"1\" class=\"dataframe\">\n",
              "  <thead>\n",
              "    <tr style=\"text-align: right;\">\n",
              "      <th></th>\n",
              "      <th>id</th>\n",
              "      <th>age</th>\n",
              "      <th>gender</th>\n",
              "      <th>country</th>\n",
              "      <th>traffic_source</th>\n",
              "      <th>created_at</th>\n",
              "    </tr>\n",
              "  </thead>\n",
              "  <tbody>\n",
              "    <tr>\n",
              "      <th>0</th>\n",
              "      <td>19279</td>\n",
              "      <td>50</td>\n",
              "      <td>F</td>\n",
              "      <td>Japan</td>\n",
              "      <td>Search</td>\n",
              "      <td>2020-11-07 12:40:00+00:00</td>\n",
              "    </tr>\n",
              "    <tr>\n",
              "      <th>1</th>\n",
              "      <td>5678</td>\n",
              "      <td>58</td>\n",
              "      <td>M</td>\n",
              "      <td>Brasil</td>\n",
              "      <td>Email</td>\n",
              "      <td>2019-07-28 04:20:00+00:00</td>\n",
              "    </tr>\n",
              "    <tr>\n",
              "      <th>2</th>\n",
              "      <td>29694</td>\n",
              "      <td>60</td>\n",
              "      <td>M</td>\n",
              "      <td>Brasil</td>\n",
              "      <td>Facebook</td>\n",
              "      <td>2019-08-16 17:06:00+00:00</td>\n",
              "    </tr>\n",
              "    <tr>\n",
              "      <th>3</th>\n",
              "      <td>29967</td>\n",
              "      <td>12</td>\n",
              "      <td>M</td>\n",
              "      <td>Brasil</td>\n",
              "      <td>Search</td>\n",
              "      <td>2019-05-09 12:08:00+00:00</td>\n",
              "    </tr>\n",
              "    <tr>\n",
              "      <th>4</th>\n",
              "      <td>47096</td>\n",
              "      <td>68</td>\n",
              "      <td>F</td>\n",
              "      <td>Brasil</td>\n",
              "      <td>Search</td>\n",
              "      <td>2019-05-24 15:53:00+00:00</td>\n",
              "    </tr>\n",
              "    <tr>\n",
              "      <th>...</th>\n",
              "      <td>...</td>\n",
              "      <td>...</td>\n",
              "      <td>...</td>\n",
              "      <td>...</td>\n",
              "      <td>...</td>\n",
              "      <td>...</td>\n",
              "    </tr>\n",
              "    <tr>\n",
              "      <th>99995</th>\n",
              "      <td>91847</td>\n",
              "      <td>67</td>\n",
              "      <td>F</td>\n",
              "      <td>South Korea</td>\n",
              "      <td>Facebook</td>\n",
              "      <td>2021-03-28 13:47:00+00:00</td>\n",
              "    </tr>\n",
              "    <tr>\n",
              "      <th>99996</th>\n",
              "      <td>12802</td>\n",
              "      <td>35</td>\n",
              "      <td>F</td>\n",
              "      <td>South Korea</td>\n",
              "      <td>Email</td>\n",
              "      <td>2020-01-17 09:21:00+00:00</td>\n",
              "    </tr>\n",
              "    <tr>\n",
              "      <th>99997</th>\n",
              "      <td>28309</td>\n",
              "      <td>59</td>\n",
              "      <td>M</td>\n",
              "      <td>South Korea</td>\n",
              "      <td>Email</td>\n",
              "      <td>2021-12-16 03:27:00+00:00</td>\n",
              "    </tr>\n",
              "    <tr>\n",
              "      <th>99998</th>\n",
              "      <td>35063</td>\n",
              "      <td>23</td>\n",
              "      <td>F</td>\n",
              "      <td>South Korea</td>\n",
              "      <td>Search</td>\n",
              "      <td>2019-03-07 05:46:00+00:00</td>\n",
              "    </tr>\n",
              "    <tr>\n",
              "      <th>99999</th>\n",
              "      <td>43199</td>\n",
              "      <td>33</td>\n",
              "      <td>F</td>\n",
              "      <td>South Korea</td>\n",
              "      <td>Organic</td>\n",
              "      <td>2019-09-28 13:20:00+00:00</td>\n",
              "    </tr>\n",
              "  </tbody>\n",
              "</table>\n",
              "<p>100000 rows × 6 columns</p>\n",
              "</div>\n",
              "      <button class=\"colab-df-convert\" onclick=\"convertToInteractive('df-021a573c-6252-426a-b2b0-70ff80f0868f')\"\n",
              "              title=\"Convert this dataframe to an interactive table.\"\n",
              "              style=\"display:none;\">\n",
              "        \n",
              "  <svg xmlns=\"http://www.w3.org/2000/svg\" height=\"24px\"viewBox=\"0 0 24 24\"\n",
              "       width=\"24px\">\n",
              "    <path d=\"M0 0h24v24H0V0z\" fill=\"none\"/>\n",
              "    <path d=\"M18.56 5.44l.94 2.06.94-2.06 2.06-.94-2.06-.94-.94-2.06-.94 2.06-2.06.94zm-11 1L8.5 8.5l.94-2.06 2.06-.94-2.06-.94L8.5 2.5l-.94 2.06-2.06.94zm10 10l.94 2.06.94-2.06 2.06-.94-2.06-.94-.94-2.06-.94 2.06-2.06.94z\"/><path d=\"M17.41 7.96l-1.37-1.37c-.4-.4-.92-.59-1.43-.59-.52 0-1.04.2-1.43.59L10.3 9.45l-7.72 7.72c-.78.78-.78 2.05 0 2.83L4 21.41c.39.39.9.59 1.41.59.51 0 1.02-.2 1.41-.59l7.78-7.78 2.81-2.81c.8-.78.8-2.07 0-2.86zM5.41 20L4 18.59l7.72-7.72 1.47 1.35L5.41 20z\"/>\n",
              "  </svg>\n",
              "      </button>\n",
              "      \n",
              "  <style>\n",
              "    .colab-df-container {\n",
              "      display:flex;\n",
              "      flex-wrap:wrap;\n",
              "      gap: 12px;\n",
              "    }\n",
              "\n",
              "    .colab-df-convert {\n",
              "      background-color: #E8F0FE;\n",
              "      border: none;\n",
              "      border-radius: 50%;\n",
              "      cursor: pointer;\n",
              "      display: none;\n",
              "      fill: #1967D2;\n",
              "      height: 32px;\n",
              "      padding: 0 0 0 0;\n",
              "      width: 32px;\n",
              "    }\n",
              "\n",
              "    .colab-df-convert:hover {\n",
              "      background-color: #E2EBFA;\n",
              "      box-shadow: 0px 1px 2px rgba(60, 64, 67, 0.3), 0px 1px 3px 1px rgba(60, 64, 67, 0.15);\n",
              "      fill: #174EA6;\n",
              "    }\n",
              "\n",
              "    [theme=dark] .colab-df-convert {\n",
              "      background-color: #3B4455;\n",
              "      fill: #D2E3FC;\n",
              "    }\n",
              "\n",
              "    [theme=dark] .colab-df-convert:hover {\n",
              "      background-color: #434B5C;\n",
              "      box-shadow: 0px 1px 3px 1px rgba(0, 0, 0, 0.15);\n",
              "      filter: drop-shadow(0px 1px 2px rgba(0, 0, 0, 0.3));\n",
              "      fill: #FFFFFF;\n",
              "    }\n",
              "  </style>\n",
              "\n",
              "      <script>\n",
              "        const buttonEl =\n",
              "          document.querySelector('#df-021a573c-6252-426a-b2b0-70ff80f0868f button.colab-df-convert');\n",
              "        buttonEl.style.display =\n",
              "          google.colab.kernel.accessAllowed ? 'block' : 'none';\n",
              "\n",
              "        async function convertToInteractive(key) {\n",
              "          const element = document.querySelector('#df-021a573c-6252-426a-b2b0-70ff80f0868f');\n",
              "          const dataTable =\n",
              "            await google.colab.kernel.invokeFunction('convertToInteractive',\n",
              "                                                     [key], {});\n",
              "          if (!dataTable) return;\n",
              "\n",
              "          const docLinkHtml = 'Like what you see? Visit the ' +\n",
              "            '<a target=\"_blank\" href=https://colab.research.google.com/notebooks/data_table.ipynb>data table notebook</a>'\n",
              "            + ' to learn more about interactive tables.';\n",
              "          element.innerHTML = '';\n",
              "          dataTable['output_type'] = 'display_data';\n",
              "          await google.colab.output.renderOutput(dataTable, element);\n",
              "          const docLink = document.createElement('div');\n",
              "          docLink.innerHTML = docLinkHtml;\n",
              "          element.appendChild(docLink);\n",
              "        }\n",
              "      </script>\n",
              "    </div>\n",
              "  </div>\n",
              "  "
            ]
          },
          "metadata": {},
          "execution_count": 4
        }
      ]
    },
    {
      "cell_type": "markdown",
      "source": [
        "# EDA (Explorartory Data Analysis)\n",
        "untuk mendapatkan informasi pada data"
      ],
      "metadata": {
        "id": "SMKPCYpQtjaM"
      }
    },
    {
      "cell_type": "markdown",
      "source": [
        "## Melihat jumlah baris dan kolom"
      ],
      "metadata": {
        "id": "3LjiOoGBXrY0"
      }
    },
    {
      "cell_type": "code",
      "source": [
        "data.shape"
      ],
      "metadata": {
        "colab": {
          "base_uri": "https://localhost:8080/"
        },
        "id": "pMKmlYGgzsgw",
        "outputId": "85755524-130e-4353-a808-5a03c122aed9"
      },
      "execution_count": null,
      "outputs": [
        {
          "output_type": "execute_result",
          "data": {
            "text/plain": [
              "(100000, 6)"
            ]
          },
          "metadata": {},
          "execution_count": 5
        }
      ]
    },
    {
      "cell_type": "markdown",
      "source": [
        "## Menampilkan nama kolom"
      ],
      "metadata": {
        "id": "S1pmhiJVZFnr"
      }
    },
    {
      "cell_type": "code",
      "source": [
        "data.columns "
      ],
      "metadata": {
        "colab": {
          "base_uri": "https://localhost:8080/"
        },
        "outputId": "e9bb6723-b0cf-4560-bb48-5ca0e81f8fa7",
        "id": "uKsANV4lGENX"
      },
      "execution_count": null,
      "outputs": [
        {
          "output_type": "execute_result",
          "data": {
            "text/plain": [
              "Index(['id', 'age', 'gender', 'country', 'traffic_source', 'created_at'], dtype='object')"
            ]
          },
          "metadata": {},
          "execution_count": 6
        }
      ]
    },
    {
      "cell_type": "markdown",
      "source": [
        "## Menampilkan info dari tiap variable"
      ],
      "metadata": {
        "id": "h0_KrNciZQk6"
      }
    },
    {
      "cell_type": "code",
      "source": [
        "data.info() "
      ],
      "metadata": {
        "colab": {
          "base_uri": "https://localhost:8080/"
        },
        "outputId": "6e22f3ad-d68c-4614-d195-ed2953ce2a8e",
        "id": "4-wEw_d6GENY"
      },
      "execution_count": null,
      "outputs": [
        {
          "output_type": "stream",
          "name": "stdout",
          "text": [
            "<class 'pandas.core.frame.DataFrame'>\n",
            "RangeIndex: 100000 entries, 0 to 99999\n",
            "Data columns (total 6 columns):\n",
            " #   Column          Non-Null Count   Dtype \n",
            "---  ------          --------------   ----- \n",
            " 0   id              100000 non-null  int64 \n",
            " 1   age             100000 non-null  int64 \n",
            " 2   gender          100000 non-null  object\n",
            " 3   country         100000 non-null  object\n",
            " 4   traffic_source  100000 non-null  object\n",
            " 5   created_at      100000 non-null  object\n",
            "dtypes: int64(2), object(4)\n",
            "memory usage: 4.6+ MB\n"
          ]
        }
      ]
    },
    {
      "cell_type": "markdown",
      "source": [
        "## Melihat missing value"
      ],
      "metadata": {
        "id": "3m-83pkznOMx"
      }
    },
    {
      "cell_type": "code",
      "source": [
        "# Plot data kosong\n",
        "sns.heatmap(data.isnull(),cbar=False,yticklabels=False,cmap = 'viridis')"
      ],
      "metadata": {
        "colab": {
          "base_uri": "https://localhost:8080/",
          "height": 340
        },
        "id": "WfC6SqiV0D51",
        "outputId": "4e2561be-0877-4ce9-d314-e8ef1a8aa14a"
      },
      "execution_count": null,
      "outputs": [
        {
          "output_type": "execute_result",
          "data": {
            "text/plain": [
              "<matplotlib.axes._subplots.AxesSubplot at 0x7f625e76c650>"
            ]
          },
          "metadata": {},
          "execution_count": 8
        },
        {
          "output_type": "display_data",
          "data": {
            "text/plain": [
              "<Figure size 432x288 with 1 Axes>"
            ],
            "image/png": "[encoded data removed]"
          },
          "metadata": {
            "needs_background": "light"
          }
        }
      ]
    },
    {
      "cell_type": "markdown",
      "source": [
        "tidak ada missing value"
      ],
      "metadata": {
        "id": "Y8YlZNSOuUAl"
      }
    },
    {
      "cell_type": "code",
      "source": [
        "# mengubah data non numerik menjadi numerik dan membulatkan nilai float (desimal)\n",
        "from sklearn.preprocessing import LabelEncoder\n",
        "le = LabelEncoder()\n",
        "data['gender'] = le.fit_transform(data['gender'])\n",
        "data['traffic_source'] = le.fit_transform(data['traffic_source'])\n",
        "data['country'] = le.fit_transform(data['country'])\n",
        "data['created_at'] = le.fit_transform(data['created_at'])"
      ],
      "metadata": {
        "id": "aH92x9f7X1Cg"
      },
      "execution_count": null,
      "outputs": []
    },
    {
      "cell_type": "code",
      "source": [
        "# Cek jenis data yang telah di encoding\n",
        "data.info()"
      ],
      "metadata": {
        "colab": {
          "base_uri": "https://localhost:8080/"
        },
        "id": "vxYFCsI1GPUw",
        "outputId": "f0c7d2f3-58d8-42a1-da48-2df6a5afff13"
      },
      "execution_count": null,
      "outputs": [
        {
          "output_type": "stream",
          "name": "stdout",
          "text": [
            "<class 'pandas.core.frame.DataFrame'>\n",
            "RangeIndex: 100000 entries, 0 to 99999\n",
            "Data columns (total 6 columns):\n",
            " #   Column          Non-Null Count   Dtype\n",
            "---  ------          --------------   -----\n",
            " 0   id              100000 non-null  int64\n",
            " 1   age             100000 non-null  int64\n",
            " 2   gender          100000 non-null  int64\n",
            " 3   country         100000 non-null  int64\n",
            " 4   traffic_source  100000 non-null  int64\n",
            " 5   created_at      100000 non-null  int64\n",
            "dtypes: int64(6)\n",
            "memory usage: 4.6 MB\n"
          ]
        }
      ]
    },
    {
      "cell_type": "code",
      "source": [
        "# melihat statistik data\n",
        "data.describe()"
      ],
      "metadata": {
        "colab": {
          "base_uri": "https://localhost:8080/",
          "height": 300
        },
        "id": "Y2KTwFKLClZN",
        "outputId": "84e5d97e-3c49-4328-87dc-828661a5c2fb"
      },
      "execution_count": null,
      "outputs": [
        {
          "output_type": "execute_result",
          "data": {
            "text/plain": [
              "                  id            age         gender       country  \\\n",
              "count  100000.000000  100000.000000  100000.000000  100000.00000   \n",
              "mean    50000.500000      41.057690       0.499470       7.50980   \n",
              "std     28867.657797      17.000799       0.500002       4.58862   \n",
              "min         1.000000      12.000000       0.000000       0.00000   \n",
              "25%     25000.750000      26.000000       0.000000       4.00000   \n",
              "50%     50000.500000      41.000000       0.000000       4.00000   \n",
              "75%     75000.250000      56.000000       1.000000      13.00000   \n",
              "max    100000.000000      70.000000       1.000000      14.00000   \n",
              "\n",
              "       traffic_source     created_at  \n",
              "count   100000.000000  100000.000000  \n",
              "mean         3.423810   48341.975730  \n",
              "std          1.066296   27913.873758  \n",
              "min          0.000000       0.000000  \n",
              "25%          3.000000   24158.750000  \n",
              "50%          4.000000   48328.000000  \n",
              "75%          4.000000   72523.250000  \n",
              "max          4.000000   96767.000000  "
            ],
            "text/html": [
              "\n",
              "  <div id=\"df-512812a9-3eff-4b91-a7ab-5ba556c52e0f\">\n",
              "    <div class=\"colab-df-container\">\n",
              "      <div>\n",
              "<style scoped>\n",
              "    .dataframe tbody tr th:only-of-type {\n",
              "        vertical-align: middle;\n",
              "    }\n",
              "\n",
              "    .dataframe tbody tr th {\n",
              "        vertical-align: top;\n",
              "    }\n",
              "\n",
              "    .dataframe thead th {\n",
              "        text-align: right;\n",
              "    }\n",
              "</style>\n",
              "<table border=\"1\" class=\"dataframe\">\n",
              "  <thead>\n",
              "    <tr style=\"text-align: right;\">\n",
              "      <th></th>\n",
              "      <th>id</th>\n",
              "      <th>age</th>\n",
              "      <th>gender</th>\n",
              "      <th>country</th>\n",
              "      <th>traffic_source</th>\n",
              "      <th>created_at</th>\n",
              "    </tr>\n",
              "  </thead>\n",
              "  <tbody>\n",
              "    <tr>\n",
              "      <th>count</th>\n",
              "      <td>100000.000000</td>\n",
              "      <td>100000.000000</td>\n",
              "      <td>100000.000000</td>\n",
              "      <td>100000.00000</td>\n",
              "      <td>100000.000000</td>\n",
              "      <td>100000.000000</td>\n",
              "    </tr>\n",
              "    <tr>\n",
              "      <th>mean</th>\n",
              "      <td>50000.500000</td>\n",
              "      <td>41.057690</td>\n",
              "      <td>0.499470</td>\n",
              "      <td>7.50980</td>\n",
              "      <td>3.423810</td>\n",
              "      <td>48341.975730</td>\n",
              "    </tr>\n",
              "    <tr>\n",
              "      <th>std</th>\n",
              "      <td>28867.657797</td>\n",
              "      <td>17.000799</td>\n",
              "      <td>0.500002</td>\n",
              "      <td>4.58862</td>\n",
              "      <td>1.066296</td>\n",
              "      <td>27913.873758</td>\n",
              "    </tr>\n",
              "    <tr>\n",
              "      <th>min</th>\n",
              "      <td>1.000000</td>\n",
              "      <td>12.000000</td>\n",
              "      <td>0.000000</td>\n",
              "      <td>0.00000</td>\n",
              "      <td>0.000000</td>\n",
              "      <td>0.000000</td>\n",
              "    </tr>\n",
              "    <tr>\n",
              "      <th>25%</th>\n",
              "      <td>25000.750000</td>\n",
              "      <td>26.000000</td>\n",
              "      <td>0.000000</td>\n",
              "      <td>4.00000</td>\n",
              "      <td>3.000000</td>\n",
              "      <td>24158.750000</td>\n",
              "    </tr>\n",
              "    <tr>\n",
              "      <th>50%</th>\n",
              "      <td>50000.500000</td>\n",
              "      <td>41.000000</td>\n",
              "      <td>0.000000</td>\n",
              "      <td>4.00000</td>\n",
              "      <td>4.000000</td>\n",
              "      <td>48328.000000</td>\n",
              "    </tr>\n",
              "    <tr>\n",
              "      <th>75%</th>\n",
              "      <td>75000.250000</td>\n",
              "      <td>56.000000</td>\n",
              "      <td>1.000000</td>\n",
              "      <td>13.00000</td>\n",
              "      <td>4.000000</td>\n",
              "      <td>72523.250000</td>\n",
              "    </tr>\n",
              "    <tr>\n",
              "      <th>max</th>\n",
              "      <td>100000.000000</td>\n",
              "      <td>70.000000</td>\n",
              "      <td>1.000000</td>\n",
              "      <td>14.00000</td>\n",
              "      <td>4.000000</td>\n",
              "      <td>96767.000000</td>\n",
              "    </tr>\n",
              "  </tbody>\n",
              "</table>\n",
              "</div>\n",
              "      <button class=\"colab-df-convert\" onclick=\"convertToInteractive('df-512812a9-3eff-4b91-a7ab-5ba556c52e0f')\"\n",
              "              title=\"Convert this dataframe to an interactive table.\"\n",
              "              style=\"display:none;\">\n",
              "        \n",
              "  <svg xmlns=\"http://www.w3.org/2000/svg\" height=\"24px\"viewBox=\"0 0 24 24\"\n",
              "       width=\"24px\">\n",
              "    <path d=\"M0 0h24v24H0V0z\" fill=\"none\"/>\n",
              "    <path d=\"M18.56 5.44l.94 2.06.94-2.06 2.06-.94-2.06-.94-.94-2.06-.94 2.06-2.06.94zm-11 1L8.5 8.5l.94-2.06 2.06-.94-2.06-.94L8.5 2.5l-.94 2.06-2.06.94zm10 10l.94 2.06.94-2.06 2.06-.94-2.06-.94-.94-2.06-.94 2.06-2.06.94z\"/><path d=\"M17.41 7.96l-1.37-1.37c-.4-.4-.92-.59-1.43-.59-.52 0-1.04.2-1.43.59L10.3 9.45l-7.72 7.72c-.78.78-.78 2.05 0 2.83L4 21.41c.39.39.9.59 1.41.59.51 0 1.02-.2 1.41-.59l7.78-7.78 2.81-2.81c.8-.78.8-2.07 0-2.86zM5.41 20L4 18.59l7.72-7.72 1.47 1.35L5.41 20z\"/>\n",
              "  </svg>\n",
              "      </button>\n",
              "      \n",
              "  <style>\n",
              "    .colab-df-container {\n",
              "      display:flex;\n",
              "      flex-wrap:wrap;\n",
              "      gap: 12px;\n",
              "    }\n",
              "\n",
              "    .colab-df-convert {\n",
              "      background-color: #E8F0FE;\n",
              "      border: none;\n",
              "      border-radius: 50%;\n",
              "      cursor: pointer;\n",
              "      display: none;\n",
              "      fill: #1967D2;\n",
              "      height: 32px;\n",
              "      padding: 0 0 0 0;\n",
              "      width: 32px;\n",
              "    }\n",
              "\n",
              "    .colab-df-convert:hover {\n",
              "      background-color: #E2EBFA;\n",
              "      box-shadow: 0px 1px 2px rgba(60, 64, 67, 0.3), 0px 1px 3px 1px rgba(60, 64, 67, 0.15);\n",
              "      fill: #174EA6;\n",
              "    }\n",
              "\n",
              "    [theme=dark] .colab-df-convert {\n",
              "      background-color: #3B4455;\n",
              "      fill: #D2E3FC;\n",
              "    }\n",
              "\n",
              "    [theme=dark] .colab-df-convert:hover {\n",
              "      background-color: #434B5C;\n",
              "      box-shadow: 0px 1px 3px 1px rgba(0, 0, 0, 0.15);\n",
              "      filter: drop-shadow(0px 1px 2px rgba(0, 0, 0, 0.3));\n",
              "      fill: #FFFFFF;\n",
              "    }\n",
              "  </style>\n",
              "\n",
              "      <script>\n",
              "        const buttonEl =\n",
              "          document.querySelector('#df-512812a9-3eff-4b91-a7ab-5ba556c52e0f button.colab-df-convert');\n",
              "        buttonEl.style.display =\n",
              "          google.colab.kernel.accessAllowed ? 'block' : 'none';\n",
              "\n",
              "        async function convertToInteractive(key) {\n",
              "          const element = document.querySelector('#df-512812a9-3eff-4b91-a7ab-5ba556c52e0f');\n",
              "          const dataTable =\n",
              "            await google.colab.kernel.invokeFunction('convertToInteractive',\n",
              "                                                     [key], {});\n",
              "          if (!dataTable) return;\n",
              "\n",
              "          const docLinkHtml = 'Like what you see? Visit the ' +\n",
              "            '<a target=\"_blank\" href=https://colab.research.google.com/notebooks/data_table.ipynb>data table notebook</a>'\n",
              "            + ' to learn more about interactive tables.';\n",
              "          element.innerHTML = '';\n",
              "          dataTable['output_type'] = 'display_data';\n",
              "          await google.colab.output.renderOutput(dataTable, element);\n",
              "          const docLink = document.createElement('div');\n",
              "          docLink.innerHTML = docLinkHtml;\n",
              "          element.appendChild(docLink);\n",
              "        }\n",
              "      </script>\n",
              "    </div>\n",
              "  </div>\n",
              "  "
            ]
          },
          "metadata": {},
          "execution_count": 11
        }
      ]
    },
    {
      "cell_type": "code",
      "source": [
        "# Melihat distribusi data\n",
        "l = data.columns.values\n",
        "number_of_columns=len(data.columns)\n",
        "number_of_rows = len(l)-1/number_of_columns\n",
        "plt.figure(figsize=(2*number_of_columns,5*number_of_rows))\n",
        "for i in range(0,len(l)):\n",
        "    plt.subplot(number_of_rows + 1,number_of_columns,i+1)\n",
        "    sns.distplot(data[l[i]],kde=True) "
      ],
      "metadata": {
        "colab": {
          "base_uri": "https://localhost:8080/",
          "height": 528
        },
        "id": "fn8pdWnq0YYK",
        "outputId": "db476755-65bc-44ae-c338-b8ce8c3a4654"
      },
      "execution_count": null,
      "outputs": [
        {
          "output_type": "stream",
          "name": "stderr",
          "text": [
            "/usr/local/lib/python3.7/dist-packages/seaborn/distributions.py:2619: FutureWarning: `distplot` is a deprecated function and will be removed in a future version. Please adapt your code to use either `displot` (a figure-level function with similar flexibility) or `histplot` (an axes-level function for histograms).\n",
            "  warnings.warn(msg, FutureWarning)\n",
            "/usr/local/lib/python3.7/dist-packages/seaborn/distributions.py:2619: FutureWarning: `distplot` is a deprecated function and will be removed in a future version. Please adapt your code to use either `displot` (a figure-level function with similar flexibility) or `histplot` (an axes-level function for histograms).\n",
            "  warnings.warn(msg, FutureWarning)\n",
            "/usr/local/lib/python3.7/dist-packages/seaborn/distributions.py:2619: FutureWarning: `distplot` is a deprecated function and will be removed in a future version. Please adapt your code to use either `displot` (a figure-level function with similar flexibility) or `histplot` (an axes-level function for histograms).\n",
            "  warnings.warn(msg, FutureWarning)\n",
            "/usr/local/lib/python3.7/dist-packages/seaborn/distributions.py:2619: FutureWarning: `distplot` is a deprecated function and will be removed in a future version. Please adapt your code to use either `displot` (a figure-level function with similar flexibility) or `histplot` (an axes-level function for histograms).\n",
            "  warnings.warn(msg, FutureWarning)\n",
            "/usr/local/lib/python3.7/dist-packages/seaborn/distributions.py:2619: FutureWarning: `distplot` is a deprecated function and will be removed in a future version. Please adapt your code to use either `displot` (a figure-level function with similar flexibility) or `histplot` (an axes-level function for histograms).\n",
            "  warnings.warn(msg, FutureWarning)\n",
            "/usr/local/lib/python3.7/dist-packages/seaborn/distributions.py:2619: FutureWarning: `distplot` is a deprecated function and will be removed in a future version. Please adapt your code to use either `displot` (a figure-level function with similar flexibility) or `histplot` (an axes-level function for histograms).\n",
            "  warnings.warn(msg, FutureWarning)\n"
          ]
        },
        {
          "output_type": "display_data",
          "data": {
            "text/plain": [
              "<Figure size 864x2100 with 6 Axes>"
            ],
            "image/png": "[encoded data removed]"
          },
          "metadata": {
            "needs_background": "light"
          }
        }
      ]
    },
    {
      "cell_type": "code",
      "source": [
        "# Melihat korelasi data\n",
        "k = len(data.columns)\n",
        "cm = data.corr()\n",
        "plt.figure(figsize=(10,6))\n",
        "sns.heatmap(cm, annot=True, cmap = 'viridis')"
      ],
      "metadata": {
        "colab": {
          "base_uri": "https://localhost:8080/",
          "height": 396
        },
        "id": "7AlLb2obyw-g",
        "outputId": "a6f6f159-cf27-419c-cef7-379bdc1c58d5"
      },
      "execution_count": null,
      "outputs": [
        {
          "output_type": "execute_result",
          "data": {
            "text/plain": [
              "<matplotlib.axes._subplots.AxesSubplot at 0x7f625691add0>"
            ]
          },
          "metadata": {},
          "execution_count": 13
        },
        {
          "output_type": "display_data",
          "data": {
            "text/plain": [
              "<Figure size 720x432 with 2 Axes>"
            ],
            "image/png": "[encoded data removed]"
          },
          "metadata": {
            "needs_background": "light"
          }
        }
      ]
    },
    {
      "cell_type": "markdown",
      "source": [
        "#Normalisasi data menggunakan MinMax Scaler"
      ],
      "metadata": {
        "id": "VYy-X2PP1wrM"
      }
    },
    {
      "cell_type": "code",
      "source": [
        "from sklearn.preprocessing import MinMaxScaler"
      ],
      "metadata": {
        "id": "UpSjjrcOoeyj"
      },
      "execution_count": null,
      "outputs": []
    },
    {
      "cell_type": "code",
      "source": [
        "data_new = data.drop('id', axis = 1)\n",
        "scaler = MinMaxScaler()\n",
        "\n",
        "data_new = scaler.fit_transform(data_new)"
      ],
      "metadata": {
        "id": "hXpuX9MC2v3h"
      },
      "execution_count": null,
      "outputs": []
    },
    {
      "cell_type": "code",
      "source": [
        "# Data yang telah dinormalsasi\n",
        "data_new"
      ],
      "metadata": {
        "colab": {
          "base_uri": "https://localhost:8080/"
        },
        "id": "kTuIvVG02AYa",
        "outputId": "0b149483-4bd4-412c-8548-ba3934e82e73"
      },
      "execution_count": null,
      "outputs": [
        {
          "output_type": "execute_result",
          "data": {
            "text/plain": [
              "array([[0.65517241, 0.        , 0.64285714, 1.        , 0.52685316],\n",
              "       [0.79310345, 1.        , 0.21428571, 0.25      , 0.16135666],\n",
              "       [0.82758621, 1.        , 0.21428571, 0.5       , 0.17690948],\n",
              "       ...,\n",
              "       [0.81034483, 1.        , 0.78571429, 0.25      , 0.84333502],\n",
              "       [0.18965517, 0.        , 0.78571429, 1.        , 0.04917999],\n",
              "       [0.36206897, 0.        , 0.78571429, 0.75      , 0.21101202]])"
            ]
          },
          "metadata": {},
          "execution_count": 16
        }
      ]
    },
    {
      "cell_type": "code",
      "source": [
        "from IPython.core.pylabtools import figsize\n",
        "plt.figure(figsize=(10,10))\n",
        "plt.scatter(data_new[:,0],data_new[:,1], color='red')\n",
        "plt.xlabel('x')\n",
        "plt.ylabel('y')"
      ],
      "metadata": {
        "colab": {
          "base_uri": "https://localhost:8080/",
          "height": 623
        },
        "id": "o3n11QLMsGsE",
        "outputId": "a9b47592-1f5a-44c9-e32a-c8a87cb72c38"
      },
      "execution_count": null,
      "outputs": [
        {
          "output_type": "execute_result",
          "data": {
            "text/plain": [
              "Text(0, 0.5, 'y')"
            ]
          },
          "metadata": {},
          "execution_count": 17
        },
        {
          "output_type": "display_data",
          "data": {
            "text/plain": [
              "<Figure size 720x720 with 1 Axes>"
            ],
            "image/png": "[encoded data removed]"
          },
          "metadata": {
            "needs_background": "light"
          }
        }
      ]
    },
    {
      "cell_type": "markdown",
      "source": [
        "# K-Means\n",
        "membentuk model clustering K-Means"
      ],
      "metadata": {
        "id": "L2U0g2UaJP9b"
      }
    },
    {
      "cell_type": "code",
      "source": [
        "#Mencari jumlah klaster terbaik untuk metode k-means\n",
        "from sklearn.cluster import KMeans\n",
        "detiknews = []\n",
        "for i in range(1,11):\n",
        "    kmeans = KMeans(n_clusters=i,init='k-means++',max_iter=300,n_init=10,random_state=0)\n",
        "    kmeans.fit(data_new)\n",
        "    detiknews.append(kmeans.inertia_)\n",
        "plt.plot(range(1,11),detiknews)\n",
        "plt.title('The Elbow Method')\n",
        "plt.xlabel('Number of clusters')\n",
        "plt.ylabel('detik news')\n",
        "#plt.savefig('elbow.png')\n",
        "plt.show()"
      ],
      "metadata": {
        "colab": {
          "base_uri": "https://localhost:8080/",
          "height": 295
        },
        "id": "CNkui2C3qeJf",
        "outputId": "3f44acf2-1ae3-4858-f59e-0937273c3710"
      },
      "execution_count": null,
      "outputs": [
        {
          "output_type": "display_data",
          "data": {
            "text/plain": [
              "<Figure size 432x288 with 1 Axes>"
            ],
            "image/png": "[encoded data removed]"
          },
          "metadata": {
            "needs_background": "light"
          }
        }
      ]
    },
    {
      "cell_type": "markdown",
      "source": [
        "## Menentukan nilai elbow yang ideal"
      ],
      "metadata": {
        "id": "s57a28O4raY6"
      }
    },
    {
      "cell_type": "code",
      "source": [
        "!pip install kneed"
      ],
      "metadata": {
        "colab": {
          "base_uri": "https://localhost:8080/"
        },
        "id": "ohFa9SKzrJ8D",
        "outputId": "8758ceba-3661-439d-d596-0b43ef07e6ff"
      },
      "execution_count": null,
      "outputs": [
        {
          "output_type": "stream",
          "name": "stdout",
          "text": [
            "Looking in indexes: https://pypi.org/simple, https://us-python.pkg.dev/colab-wheels/public/simple/\n",
            "Collecting kneed\n",
            "  Downloading kneed-0.7.0-py2.py3-none-any.whl (9.4 kB)\n",
            "Requirement already satisfied: scipy in /usr/local/lib/python3.7/dist-packages (from kneed) (1.4.1)\n",
            "Requirement already satisfied: numpy>=1.14.2 in /usr/local/lib/python3.7/dist-packages (from kneed) (1.21.6)\n",
            "Requirement already satisfied: matplotlib in /usr/local/lib/python3.7/dist-packages (from kneed) (3.2.2)\n",
            "Requirement already satisfied: cycler>=0.10 in /usr/local/lib/python3.7/dist-packages (from matplotlib->kneed) (0.11.0)\n",
            "Requirement already satisfied: kiwisolver>=1.0.1 in /usr/local/lib/python3.7/dist-packages (from matplotlib->kneed) (1.4.3)\n",
            "Requirement already satisfied: pyparsing!=2.0.4,!=2.1.2,!=2.1.6,>=2.0.1 in /usr/local/lib/python3.7/dist-packages (from matplotlib->kneed) (3.0.9)\n",
            "Requirement already satisfied: python-dateutil>=2.1 in /usr/local/lib/python3.7/dist-packages (from matplotlib->kneed) (2.8.2)\n",
            "Requirement already satisfied: typing-extensions in /usr/local/lib/python3.7/dist-packages (from kiwisolver>=1.0.1->matplotlib->kneed) (4.1.1)\n",
            "Requirement already satisfied: six>=1.5 in /usr/local/lib/python3.7/dist-packages (from python-dateutil>=2.1->matplotlib->kneed) (1.15.0)\n",
            "Installing collected packages: kneed\n",
            "Successfully installed kneed-0.7.0\n"
          ]
        }
      ]
    },
    {
      "cell_type": "code",
      "source": [
        "from kneed import KneeLocator\n",
        "ci = KneeLocator(range(1,11), detiknews, curve = \"convex\", direction = \"decreasing\")"
      ],
      "metadata": {
        "id": "v5TOBikKrN85"
      },
      "execution_count": null,
      "outputs": []
    },
    {
      "cell_type": "code",
      "source": [
        "ci.elbow"
      ],
      "metadata": {
        "colab": {
          "base_uri": "https://localhost:8080/"
        },
        "id": "tk7K3keErPTv",
        "outputId": "a4654b17-1b8c-49b5-be97-ef46a3ee519b"
      },
      "execution_count": null,
      "outputs": [
        {
          "output_type": "execute_result",
          "data": {
            "text/plain": [
              "2"
            ]
          },
          "metadata": {},
          "execution_count": 23
        }
      ]
    },
    {
      "cell_type": "markdown",
      "source": [
        "Hasil metode elbow menyatakan bahwa jumlah klaster terbaik adalah 2 dan akan di buktikan menggunkan silhouette score"
      ],
      "metadata": {
        "id": "ecsXwecj4MHj"
      }
    },
    {
      "cell_type": "markdown",
      "source": [
        "##Evaluasi dengan silhouette score"
      ],
      "metadata": {
        "id": "Ifj3D-hWxeAG"
      }
    },
    {
      "cell_type": "markdown",
      "source": [
        "![Screenshot 2022-06-30 072712.png](data:image/png;base64,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)"
      ],
      "metadata": {
        "id": "ARA2iXq_Cutx"
      }
    },
    {
      "cell_type": "markdown",
      "source": [
        "\n",
        "p adalah rata-rata jarak ke titik klaster terdekat yang bukan bagiannya\n",
        "\n",
        "q adalah jarak intra-klaster rata-rata ke semua titik dalam clusternya sendiri.\n",
        "\n",
        "nilai dari silhouette score dalam range -1 sampai 1.\n",
        "\n",
        "semakin besar silhouette score semakin baik performa model"
      ],
      "metadata": {
        "id": "hgQaahXU717T"
      }
    },
    {
      "cell_type": "code",
      "source": [
        "# Melihat performa model menggunakan Silhouette dengan percobaan beberapa klaster\n",
        "range_jum_klaster = [2, 3, 4, 5, 6, 7, 8, 9, 10]\n",
        "sil_score = []\n",
        "for i in range_jum_klaster:\n",
        "    \n",
        "    # menerapkan model\n",
        "    kmeans = KMeans(n_clusters=i, max_iter=50)\n",
        "    kmeans.fit(data_new)\n",
        "    \n",
        "    klaster = kmeans.labels_\n",
        "    \n",
        "    # silhouette score\n",
        "    silhouette_avg = silhouette_score(data_new, klaster)\n",
        "    sil_score.append(silhouette_avg)\n",
        "    print(\"untuk jumlah klaster={0}, diperoleh silhouette score  {1}\".format(i, silhouette_avg))"
      ],
      "metadata": {
        "id": "-Cx4moLwF88E",
        "colab": {
          "base_uri": "https://localhost:8080/"
        },
        "outputId": "4aeb67b3-13f2-481b-e9e6-4079a03bfa06"
      },
      "execution_count": null,
      "outputs": [
        {
          "output_type": "stream",
          "name": "stdout",
          "text": [
            "untuk jumlah klaster=2, diperoleh silhouette score  0.39610102028473726\n",
            "untuk jumlah klaster=3, diperoleh silhouette score  0.3233225856706139\n",
            "untuk jumlah klaster=4, diperoleh silhouette score  0.28790081798232325\n",
            "untuk jumlah klaster=5, diperoleh silhouette score  0.2957540942388323\n",
            "untuk jumlah klaster=6, diperoleh silhouette score  0.2763466352855633\n",
            "untuk jumlah klaster=7, diperoleh silhouette score  0.2861823978038322\n",
            "untuk jumlah klaster=8, diperoleh silhouette score  0.2706722303321458\n",
            "untuk jumlah klaster=9, diperoleh silhouette score  0.27138729436870007\n",
            "untuk jumlah klaster=10, diperoleh silhouette score  0.26675323388836014\n"
          ]
        }
      ]
    },
    {
      "cell_type": "markdown",
      "source": [
        "dapat dilihat bahwa klaster=2 memiliki skor yang tertinggi dari klaster lainya, ini berati nilai k=2 adalah nilai yang ideal"
      ],
      "metadata": {
        "id": "hfTDN4p4vH9t"
      }
    },
    {
      "cell_type": "markdown",
      "source": [
        "## Plot Hasil Silhouette"
      ],
      "metadata": {
        "id": "yoTVYJrSxsR1"
      }
    },
    {
      "cell_type": "code",
      "source": [
        "# plot performa model\n",
        "plt.figure(figsize=(16,8))\n",
        "plt.plot(range_jum_klaster, sil_score, 'bx-')\n",
        "plt.xlabel('Klaster')\n",
        "plt.ylabel('Silhouette_score')\n",
        "plt.title('Grafik performa model menggunakan Silhouette Score')\n",
        "plt.show()"
      ],
      "metadata": {
        "colab": {
          "base_uri": "https://localhost:8080/",
          "height": 533
        },
        "id": "TJ-3yLl4-lBS",
        "outputId": "d5d0737d-7316-429c-d29c-4179f059c52d"
      },
      "execution_count": null,
      "outputs": [
        {
          "output_type": "display_data",
          "data": {
            "text/plain": [
              "<Figure size 1152x576 with 1 Axes>"
            ],
            "image/png": "[encoded data removed]"
          },
          "metadata": {
            "needs_background": "light"
          }
        }
      ]
    },
    {
      "cell_type": "markdown",
      "source": [
        "## Penerapan model K-means cluste"
      ],
      "metadata": {
        "id": "hmLX1IS7x2KD"
      }
    },
    {
      "cell_type": "code",
      "source": [
        "# Menerapkan model K-Means menggunakan jumlah klaster 4\n",
        "kmeans = KMeans(n_clusters=2, max_iter=50)\n",
        "kmeans.fit(data_new)"
      ],
      "metadata": {
        "colab": {
          "base_uri": "https://localhost:8080/"
        },
        "id": "3hvCVCsS3_nP",
        "outputId": "f10397d5-9b8c-4eac-d221-4858f6291fe6"
      },
      "execution_count": null,
      "outputs": [
        {
          "output_type": "execute_result",
          "data": {
            "text/plain": [
              "KMeans(max_iter=50, n_clusters=2)"
            ]
          },
          "metadata": {},
          "execution_count": 26
        }
      ]
    },
    {
      "cell_type": "code",
      "source": [
        "# Label klaster\n",
        "kmeans.labels_"
      ],
      "metadata": {
        "colab": {
          "base_uri": "https://localhost:8080/"
        },
        "id": "ZZbE53FH4HuU",
        "outputId": "41cb10f0-b1be-49c7-c03b-7abd1efef402"
      },
      "execution_count": null,
      "outputs": [
        {
          "output_type": "execute_result",
          "data": {
            "text/plain": [
              "array([0, 1, 1, ..., 1, 0, 0], dtype=int32)"
            ]
          },
          "metadata": {},
          "execution_count": 27
        }
      ]
    },
    {
      "cell_type": "code",
      "source": [
        "# Memasukkan kolom klaster pada dataframe\n",
        "data['Klaster'] = kmeans.labels_\n",
        "data.head()"
      ],
      "metadata": {
        "colab": {
          "base_uri": "https://localhost:8080/",
          "height": 206
        },
        "id": "uLlvkIon9v8W",
        "outputId": "0fc3419e-7bb0-41a9-82ad-725c97bf9ec8"
      },
      "execution_count": null,
      "outputs": [
        {
          "output_type": "execute_result",
          "data": {
            "text/plain": [
              "      id  age  gender  country  traffic_source  created_at  Klaster\n",
              "0  19279   50       0        9               4       50982        0\n",
              "1   5678   58       1        3               1       15614        1\n",
              "2  29694   60       1        3               2       17119        1\n",
              "3  29967   12       1        3               4        9534        1\n",
              "4  47096   68       0        3               4       10726        0"
            ],
            "text/html": [
              "\n",
              "  <div id=\"df-b8d10af8-3dd5-4b66-85e9-58c4a6ed557c\">\n",
              "    <div class=\"colab-df-container\">\n",
              "      <div>\n",
              "<style scoped>\n",
              "    .dataframe tbody tr th:only-of-type {\n",
              "        vertical-align: middle;\n",
              "    }\n",
              "\n",
              "    .dataframe tbody tr th {\n",
              "        vertical-align: top;\n",
              "    }\n",
              "\n",
              "    .dataframe thead th {\n",
              "        text-align: right;\n",
              "    }\n",
              "</style>\n",
              "<table border=\"1\" class=\"dataframe\">\n",
              "  <thead>\n",
              "    <tr style=\"text-align: right;\">\n",
              "      <th></th>\n",
              "      <th>id</th>\n",
              "      <th>age</th>\n",
              "      <th>gender</th>\n",
              "      <th>country</th>\n",
              "      <th>traffic_source</th>\n",
              "      <th>created_at</th>\n",
              "      <th>Klaster</th>\n",
              "    </tr>\n",
              "  </thead>\n",
              "  <tbody>\n",
              "    <tr>\n",
              "      <th>0</th>\n",
              "      <td>19279</td>\n",
              "      <td>50</td>\n",
              "      <td>0</td>\n",
              "      <td>9</td>\n",
              "      <td>4</td>\n",
              "      <td>50982</td>\n",
              "      <td>0</td>\n",
              "    </tr>\n",
              "    <tr>\n",
              "      <th>1</th>\n",
              "      <td>5678</td>\n",
              "      <td>58</td>\n",
              "      <td>1</td>\n",
              "      <td>3</td>\n",
              "      <td>1</td>\n",
              "      <td>15614</td>\n",
              "      <td>1</td>\n",
              "    </tr>\n",
              "    <tr>\n",
              "      <th>2</th>\n",
              "      <td>29694</td>\n",
              "      <td>60</td>\n",
              "      <td>1</td>\n",
              "      <td>3</td>\n",
              "      <td>2</td>\n",
              "      <td>17119</td>\n",
              "      <td>1</td>\n",
              "    </tr>\n",
              "    <tr>\n",
              "      <th>3</th>\n",
              "      <td>29967</td>\n",
              "      <td>12</td>\n",
              "      <td>1</td>\n",
              "      <td>3</td>\n",
              "      <td>4</td>\n",
              "      <td>9534</td>\n",
              "      <td>1</td>\n",
              "    </tr>\n",
              "    <tr>\n",
              "      <th>4</th>\n",
              "      <td>47096</td>\n",
              "      <td>68</td>\n",
              "      <td>0</td>\n",
              "      <td>3</td>\n",
              "      <td>4</td>\n",
              "      <td>10726</td>\n",
              "      <td>0</td>\n",
              "    </tr>\n",
              "  </tbody>\n",
              "</table>\n",
              "</div>\n",
              "      <button class=\"colab-df-convert\" onclick=\"convertToInteractive('df-b8d10af8-3dd5-4b66-85e9-58c4a6ed557c')\"\n",
              "              title=\"Convert this dataframe to an interactive table.\"\n",
              "              style=\"display:none;\">\n",
              "        \n",
              "  <svg xmlns=\"http://www.w3.org/2000/svg\" height=\"24px\"viewBox=\"0 0 24 24\"\n",
              "       width=\"24px\">\n",
              "    <path d=\"M0 0h24v24H0V0z\" fill=\"none\"/>\n",
              "    <path d=\"M18.56 5.44l.94 2.06.94-2.06 2.06-.94-2.06-.94-.94-2.06-.94 2.06-2.06.94zm-11 1L8.5 8.5l.94-2.06 2.06-.94-2.06-.94L8.5 2.5l-.94 2.06-2.06.94zm10 10l.94 2.06.94-2.06 2.06-.94-2.06-.94-.94-2.06-.94 2.06-2.06.94z\"/><path d=\"M17.41 7.96l-1.37-1.37c-.4-.4-.92-.59-1.43-.59-.52 0-1.04.2-1.43.59L10.3 9.45l-7.72 7.72c-.78.78-.78 2.05 0 2.83L4 21.41c.39.39.9.59 1.41.59.51 0 1.02-.2 1.41-.59l7.78-7.78 2.81-2.81c.8-.78.8-2.07 0-2.86zM5.41 20L4 18.59l7.72-7.72 1.47 1.35L5.41 20z\"/>\n",
              "  </svg>\n",
              "      </button>\n",
              "      \n",
              "  <style>\n",
              "    .colab-df-container {\n",
              "      display:flex;\n",
              "      flex-wrap:wrap;\n",
              "      gap: 12px;\n",
              "    }\n",
              "\n",
              "    .colab-df-convert {\n",
              "      background-color: #E8F0FE;\n",
              "      border: none;\n",
              "      border-radius: 50%;\n",
              "      cursor: pointer;\n",
              "      display: none;\n",
              "      fill: #1967D2;\n",
              "      height: 32px;\n",
              "      padding: 0 0 0 0;\n",
              "      width: 32px;\n",
              "    }\n",
              "\n",
              "    .colab-df-convert:hover {\n",
              "      background-color: #E2EBFA;\n",
              "      box-shadow: 0px 1px 2px rgba(60, 64, 67, 0.3), 0px 1px 3px 1px rgba(60, 64, 67, 0.15);\n",
              "      fill: #174EA6;\n",
              "    }\n",
              "\n",
              "    [theme=dark] .colab-df-convert {\n",
              "      background-color: #3B4455;\n",
              "      fill: #D2E3FC;\n",
              "    }\n",
              "\n",
              "    [theme=dark] .colab-df-convert:hover {\n",
              "      background-color: #434B5C;\n",
              "      box-shadow: 0px 1px 3px 1px rgba(0, 0, 0, 0.15);\n",
              "      filter: drop-shadow(0px 1px 2px rgba(0, 0, 0, 0.3));\n",
              "      fill: #FFFFFF;\n",
              "    }\n",
              "  </style>\n",
              "\n",
              "      <script>\n",
              "        const buttonEl =\n",
              "          document.querySelector('#df-b8d10af8-3dd5-4b66-85e9-58c4a6ed557c button.colab-df-convert');\n",
              "        buttonEl.style.display =\n",
              "          google.colab.kernel.accessAllowed ? 'block' : 'none';\n",
              "\n",
              "        async function convertToInteractive(key) {\n",
              "          const element = document.querySelector('#df-b8d10af8-3dd5-4b66-85e9-58c4a6ed557c');\n",
              "          const dataTable =\n",
              "            await google.colab.kernel.invokeFunction('convertToInteractive',\n",
              "                                                     [key], {});\n",
              "          if (!dataTable) return;\n",
              "\n",
              "          const docLinkHtml = 'Like what you see? Visit the ' +\n",
              "            '<a target=\"_blank\" href=https://colab.research.google.com/notebooks/data_table.ipynb>data table notebook</a>'\n",
              "            + ' to learn more about interactive tables.';\n",
              "          element.innerHTML = '';\n",
              "          dataTable['output_type'] = 'display_data';\n",
              "          await google.colab.output.renderOutput(dataTable, element);\n",
              "          const docLink = document.createElement('div');\n",
              "          docLink.innerHTML = docLinkHtml;\n",
              "          element.appendChild(docLink);\n",
              "        }\n",
              "      </script>\n",
              "    </div>\n",
              "  </div>\n",
              "  "
            ]
          },
          "metadata": {},
          "execution_count": 28
        }
      ]
    },
    {
      "cell_type": "code",
      "source": [
        "# Melihat jumlah data pada tiap klaster\n",
        "data.Klaster.value_counts()"
      ],
      "metadata": {
        "colab": {
          "base_uri": "https://localhost:8080/"
        },
        "id": "-lfYhY1kDZhp",
        "outputId": "8ba40399-799b-4afc-b9b4-eb2d33f78202"
      },
      "execution_count": null,
      "outputs": [
        {
          "output_type": "execute_result",
          "data": {
            "text/plain": [
              "0    50053\n",
              "1    49947\n",
              "Name: Klaster, dtype: int64"
            ]
          },
          "metadata": {},
          "execution_count": 30
        }
      ]
    },
    {
      "cell_type": "markdown",
      "source": [
        "# DataFrame Custer "
      ],
      "metadata": {
        "id": "VN23ZIDD1IgU"
      }
    },
    {
      "cell_type": "code",
      "source": [
        "#klaster pertama\n",
        "c0 = data.loc[data['Klaster'] ==0]\n",
        "c0"
      ],
      "metadata": {
        "colab": {
          "base_uri": "https://localhost:8080/",
          "height": 424
        },
        "id": "3QAhdEZt1VL3",
        "outputId": "779bbb7d-91ff-4b25-c47b-2cb4fcdcfa78"
      },
      "execution_count": null,
      "outputs": [
        {
          "output_type": "execute_result",
          "data": {
            "text/plain": [
              "          id  age  gender  country  traffic_source  created_at  Klaster\n",
              "0      19279   50       0        9               4       50982        0\n",
              "4      47096   68       0        3               4       10726        0\n",
              "5      48667   63       0        3               4        2308        0\n",
              "10     54698   34       0        3               3       29151        0\n",
              "12     84003   22       0        3               2        1545        0\n",
              "...      ...  ...     ...      ...             ...         ...      ...\n",
              "99994  34338   70       0       11               4       24360        0\n",
              "99995  91847   67       0       11               2       61773        0\n",
              "99996  12802   35       0       11               1       28836        0\n",
              "99998  35063   23       0       11               4        4759        0\n",
              "99999  43199   33       0       11               3       20419        0\n",
              "\n",
              "[50053 rows x 7 columns]"
            ],
            "text/html": [
              "\n",
              "  <div id=\"df-e3a8b724-9b6c-4566-a4c0-d5a819e3b3ef\">\n",
              "    <div class=\"colab-df-container\">\n",
              "      <div>\n",
              "<style scoped>\n",
              "    .dataframe tbody tr th:only-of-type {\n",
              "        vertical-align: middle;\n",
              "    }\n",
              "\n",
              "    .dataframe tbody tr th {\n",
              "        vertical-align: top;\n",
              "    }\n",
              "\n",
              "    .dataframe thead th {\n",
              "        text-align: right;\n",
              "    }\n",
              "</style>\n",
              "<table border=\"1\" class=\"dataframe\">\n",
              "  <thead>\n",
              "    <tr style=\"text-align: right;\">\n",
              "      <th></th>\n",
              "      <th>id</th>\n",
              "      <th>age</th>\n",
              "      <th>gender</th>\n",
              "      <th>country</th>\n",
              "      <th>traffic_source</th>\n",
              "      <th>created_at</th>\n",
              "      <th>Klaster</th>\n",
              "    </tr>\n",
              "  </thead>\n",
              "  <tbody>\n",
              "    <tr>\n",
              "      <th>0</th>\n",
              "      <td>19279</td>\n",
              "      <td>50</td>\n",
              "      <td>0</td>\n",
              "      <td>9</td>\n",
              "      <td>4</td>\n",
              "      <td>50982</td>\n",
              "      <td>0</td>\n",
              "    </tr>\n",
              "    <tr>\n",
              "      <th>4</th>\n",
              "      <td>47096</td>\n",
              "      <td>68</td>\n",
              "      <td>0</td>\n",
              "      <td>3</td>\n",
              "      <td>4</td>\n",
              "      <td>10726</td>\n",
              "      <td>0</td>\n",
              "    </tr>\n",
              "    <tr>\n",
              "      <th>5</th>\n",
              "      <td>48667</td>\n",
              "      <td>63</td>\n",
              "      <td>0</td>\n",
              "      <td>3</td>\n",
              "      <td>4</td>\n",
              "      <td>2308</td>\n",
              "      <td>0</td>\n",
              "    </tr>\n",
              "    <tr>\n",
              "      <th>10</th>\n",
              "      <td>54698</td>\n",
              "      <td>34</td>\n",
              "      <td>0</td>\n",
              "      <td>3</td>\n",
              "      <td>3</td>\n",
              "      <td>29151</td>\n",
              "      <td>0</td>\n",
              "    </tr>\n",
              "    <tr>\n",
              "      <th>12</th>\n",
              "      <td>84003</td>\n",
              "      <td>22</td>\n",
              "      <td>0</td>\n",
              "      <td>3</td>\n",
              "      <td>2</td>\n",
              "      <td>1545</td>\n",
              "      <td>0</td>\n",
              "    </tr>\n",
              "    <tr>\n",
              "      <th>...</th>\n",
              "      <td>...</td>\n",
              "      <td>...</td>\n",
              "      <td>...</td>\n",
              "      <td>...</td>\n",
              "      <td>...</td>\n",
              "      <td>...</td>\n",
              "      <td>...</td>\n",
              "    </tr>\n",
              "    <tr>\n",
              "      <th>99994</th>\n",
              "      <td>34338</td>\n",
              "      <td>70</td>\n",
              "      <td>0</td>\n",
              "      <td>11</td>\n",
              "      <td>4</td>\n",
              "      <td>24360</td>\n",
              "      <td>0</td>\n",
              "    </tr>\n",
              "    <tr>\n",
              "      <th>99995</th>\n",
              "      <td>91847</td>\n",
              "      <td>67</td>\n",
              "      <td>0</td>\n",
              "      <td>11</td>\n",
              "      <td>2</td>\n",
              "      <td>61773</td>\n",
              "      <td>0</td>\n",
              "    </tr>\n",
              "    <tr>\n",
              "      <th>99996</th>\n",
              "      <td>12802</td>\n",
              "      <td>35</td>\n",
              "      <td>0</td>\n",
              "      <td>11</td>\n",
              "      <td>1</td>\n",
              "      <td>28836</td>\n",
              "      <td>0</td>\n",
              "    </tr>\n",
              "    <tr>\n",
              "      <th>99998</th>\n",
              "      <td>35063</td>\n",
              "      <td>23</td>\n",
              "      <td>0</td>\n",
              "      <td>11</td>\n",
              "      <td>4</td>\n",
              "      <td>4759</td>\n",
              "      <td>0</td>\n",
              "    </tr>\n",
              "    <tr>\n",
              "      <th>99999</th>\n",
              "      <td>43199</td>\n",
              "      <td>33</td>\n",
              "      <td>0</td>\n",
              "      <td>11</td>\n",
              "      <td>3</td>\n",
              "      <td>20419</td>\n",
              "      <td>0</td>\n",
              "    </tr>\n",
              "  </tbody>\n",
              "</table>\n",
              "<p>50053 rows × 7 columns</p>\n",
              "</div>\n",
              "      <button class=\"colab-df-convert\" onclick=\"convertToInteractive('df-e3a8b724-9b6c-4566-a4c0-d5a819e3b3ef')\"\n",
              "              title=\"Convert this dataframe to an interactive table.\"\n",
              "              style=\"display:none;\">\n",
              "        \n",
              "  <svg xmlns=\"http://www.w3.org/2000/svg\" height=\"24px\"viewBox=\"0 0 24 24\"\n",
              "       width=\"24px\">\n",
              "    <path d=\"M0 0h24v24H0V0z\" fill=\"none\"/>\n",
              "    <path d=\"M18.56 5.44l.94 2.06.94-2.06 2.06-.94-2.06-.94-.94-2.06-.94 2.06-2.06.94zm-11 1L8.5 8.5l.94-2.06 2.06-.94-2.06-.94L8.5 2.5l-.94 2.06-2.06.94zm10 10l.94 2.06.94-2.06 2.06-.94-2.06-.94-.94-2.06-.94 2.06-2.06.94z\"/><path d=\"M17.41 7.96l-1.37-1.37c-.4-.4-.92-.59-1.43-.59-.52 0-1.04.2-1.43.59L10.3 9.45l-7.72 7.72c-.78.78-.78 2.05 0 2.83L4 21.41c.39.39.9.59 1.41.59.51 0 1.02-.2 1.41-.59l7.78-7.78 2.81-2.81c.8-.78.8-2.07 0-2.86zM5.41 20L4 18.59l7.72-7.72 1.47 1.35L5.41 20z\"/>\n",
              "  </svg>\n",
              "      </button>\n",
              "      \n",
              "  <style>\n",
              "    .colab-df-container {\n",
              "      display:flex;\n",
              "      flex-wrap:wrap;\n",
              "      gap: 12px;\n",
              "    }\n",
              "\n",
              "    .colab-df-convert {\n",
              "      background-color: #E8F0FE;\n",
              "      border: none;\n",
              "      border-radius: 50%;\n",
              "      cursor: pointer;\n",
              "      display: none;\n",
              "      fill: #1967D2;\n",
              "      height: 32px;\n",
              "      padding: 0 0 0 0;\n",
              "      width: 32px;\n",
              "    }\n",
              "\n",
              "    .colab-df-convert:hover {\n",
              "      background-color: #E2EBFA;\n",
              "      box-shadow: 0px 1px 2px rgba(60, 64, 67, 0.3), 0px 1px 3px 1px rgba(60, 64, 67, 0.15);\n",
              "      fill: #174EA6;\n",
              "    }\n",
              "\n",
              "    [theme=dark] .colab-df-convert {\n",
              "      background-color: #3B4455;\n",
              "      fill: #D2E3FC;\n",
              "    }\n",
              "\n",
              "    [theme=dark] .colab-df-convert:hover {\n",
              "      background-color: #434B5C;\n",
              "      box-shadow: 0px 1px 3px 1px rgba(0, 0, 0, 0.15);\n",
              "      filter: drop-shadow(0px 1px 2px rgba(0, 0, 0, 0.3));\n",
              "      fill: #FFFFFF;\n",
              "    }\n",
              "  </style>\n",
              "\n",
              "      <script>\n",
              "        const buttonEl =\n",
              "          document.querySelector('#df-e3a8b724-9b6c-4566-a4c0-d5a819e3b3ef button.colab-df-convert');\n",
              "        buttonEl.style.display =\n",
              "          google.colab.kernel.accessAllowed ? 'block' : 'none';\n",
              "\n",
              "        async function convertToInteractive(key) {\n",
              "          const element = document.querySelector('#df-e3a8b724-9b6c-4566-a4c0-d5a819e3b3ef');\n",
              "          const dataTable =\n",
              "            await google.colab.kernel.invokeFunction('convertToInteractive',\n",
              "                                                     [key], {});\n",
              "          if (!dataTable) return;\n",
              "\n",
              "          const docLinkHtml = 'Like what you see? Visit the ' +\n",
              "            '<a target=\"_blank\" href=https://colab.research.google.com/notebooks/data_table.ipynb>data table notebook</a>'\n",
              "            + ' to learn more about interactive tables.';\n",
              "          element.innerHTML = '';\n",
              "          dataTable['output_type'] = 'display_data';\n",
              "          await google.colab.output.renderOutput(dataTable, element);\n",
              "          const docLink = document.createElement('div');\n",
              "          docLink.innerHTML = docLinkHtml;\n",
              "          element.appendChild(docLink);\n",
              "        }\n",
              "      </script>\n",
              "    </div>\n",
              "  </div>\n",
              "  "
            ]
          },
          "metadata": {},
          "execution_count": 39
        }
      ]
    },
    {
      "cell_type": "code",
      "source": [
        "#klaster kedua\n",
        "c1 = data.loc[data['Klaster'] ==1]\n",
        "c1"
      ],
      "metadata": {
        "colab": {
          "base_uri": "https://localhost:8080/",
          "height": 424
        },
        "id": "kdnRDrWB1pf1",
        "outputId": "dc63f4cc-7ef1-4c95-d1e2-62beef9ea577"
      },
      "execution_count": null,
      "outputs": [
        {
          "output_type": "execute_result",
          "data": {
            "text/plain": [
              "          id  age  gender  country  traffic_source  created_at  Klaster\n",
              "1       5678   58       1        3               1       15614        1\n",
              "2      29694   60       1        3               2       17119        1\n",
              "3      29967   12       1        3               4        9534        1\n",
              "6      62650   38       1        3               4       27369        1\n",
              "7      86352   45       1        3               4        7625        1\n",
              "...      ...  ...     ...      ...             ...         ...      ...\n",
              "99986  33926   56       1       11               2       39148        1\n",
              "99987  45798   31       1       11               4       16714        1\n",
              "99990  49541   69       1       11               2       73724        1\n",
              "99993  97594   50       1       11               4       72241        1\n",
              "99997  28309   59       1       11               1       81607        1\n",
              "\n",
              "[49947 rows x 7 columns]"
            ],
            "text/html": [
              "\n",
              "  <div id=\"df-9004ebf9-bbb7-411b-88b3-bc5c3bd5944c\">\n",
              "    <div class=\"colab-df-container\">\n",
              "      <div>\n",
              "<style scoped>\n",
              "    .dataframe tbody tr th:only-of-type {\n",
              "        vertical-align: middle;\n",
              "    }\n",
              "\n",
              "    .dataframe tbody tr th {\n",
              "        vertical-align: top;\n",
              "    }\n",
              "\n",
              "    .dataframe thead th {\n",
              "        text-align: right;\n",
              "    }\n",
              "</style>\n",
              "<table border=\"1\" class=\"dataframe\">\n",
              "  <thead>\n",
              "    <tr style=\"text-align: right;\">\n",
              "      <th></th>\n",
              "      <th>id</th>\n",
              "      <th>age</th>\n",
              "      <th>gender</th>\n",
              "      <th>country</th>\n",
              "      <th>traffic_source</th>\n",
              "      <th>created_at</th>\n",
              "      <th>Klaster</th>\n",
              "    </tr>\n",
              "  </thead>\n",
              "  <tbody>\n",
              "    <tr>\n",
              "      <th>1</th>\n",
              "      <td>5678</td>\n",
              "      <td>58</td>\n",
              "      <td>1</td>\n",
              "      <td>3</td>\n",
              "      <td>1</td>\n",
              "      <td>15614</td>\n",
              "      <td>1</td>\n",
              "    </tr>\n",
              "    <tr>\n",
              "      <th>2</th>\n",
              "      <td>29694</td>\n",
              "      <td>60</td>\n",
              "      <td>1</td>\n",
              "      <td>3</td>\n",
              "      <td>2</td>\n",
              "      <td>17119</td>\n",
              "      <td>1</td>\n",
              "    </tr>\n",
              "    <tr>\n",
              "      <th>3</th>\n",
              "      <td>29967</td>\n",
              "      <td>12</td>\n",
              "      <td>1</td>\n",
              "      <td>3</td>\n",
              "      <td>4</td>\n",
              "      <td>9534</td>\n",
              "      <td>1</td>\n",
              "    </tr>\n",
              "    <tr>\n",
              "      <th>6</th>\n",
              "      <td>62650</td>\n",
              "      <td>38</td>\n",
              "      <td>1</td>\n",
              "      <td>3</td>\n",
              "      <td>4</td>\n",
              "      <td>27369</td>\n",
              "      <td>1</td>\n",
              "    </tr>\n",
              "    <tr>\n",
              "      <th>7</th>\n",
              "      <td>86352</td>\n",
              "      <td>45</td>\n",
              "      <td>1</td>\n",
              "      <td>3</td>\n",
              "      <td>4</td>\n",
              "      <td>7625</td>\n",
              "      <td>1</td>\n",
              "    </tr>\n",
              "    <tr>\n",
              "      <th>...</th>\n",
              "      <td>...</td>\n",
              "      <td>...</td>\n",
              "      <td>...</td>\n",
              "      <td>...</td>\n",
              "      <td>...</td>\n",
              "      <td>...</td>\n",
              "      <td>...</td>\n",
              "    </tr>\n",
              "    <tr>\n",
              "      <th>99986</th>\n",
              "      <td>33926</td>\n",
              "      <td>56</td>\n",
              "      <td>1</td>\n",
              "      <td>11</td>\n",
              "      <td>2</td>\n",
              "      <td>39148</td>\n",
              "      <td>1</td>\n",
              "    </tr>\n",
              "    <tr>\n",
              "      <th>99987</th>\n",
              "      <td>45798</td>\n",
              "      <td>31</td>\n",
              "      <td>1</td>\n",
              "      <td>11</td>\n",
              "      <td>4</td>\n",
              "      <td>16714</td>\n",
              "      <td>1</td>\n",
              "    </tr>\n",
              "    <tr>\n",
              "      <th>99990</th>\n",
              "      <td>49541</td>\n",
              "      <td>69</td>\n",
              "      <td>1</td>\n",
              "      <td>11</td>\n",
              "      <td>2</td>\n",
              "      <td>73724</td>\n",
              "      <td>1</td>\n",
              "    </tr>\n",
              "    <tr>\n",
              "      <th>99993</th>\n",
              "      <td>97594</td>\n",
              "      <td>50</td>\n",
              "      <td>1</td>\n",
              "      <td>11</td>\n",
              "      <td>4</td>\n",
              "      <td>72241</td>\n",
              "      <td>1</td>\n",
              "    </tr>\n",
              "    <tr>\n",
              "      <th>99997</th>\n",
              "      <td>28309</td>\n",
              "      <td>59</td>\n",
              "      <td>1</td>\n",
              "      <td>11</td>\n",
              "      <td>1</td>\n",
              "      <td>81607</td>\n",
              "      <td>1</td>\n",
              "    </tr>\n",
              "  </tbody>\n",
              "</table>\n",
              "<p>49947 rows × 7 columns</p>\n",
              "</div>\n",
              "      <button class=\"colab-df-convert\" onclick=\"convertToInteractive('df-9004ebf9-bbb7-411b-88b3-bc5c3bd5944c')\"\n",
              "              title=\"Convert this dataframe to an interactive table.\"\n",
              "              style=\"display:none;\">\n",
              "        \n",
              "  <svg xmlns=\"http://www.w3.org/2000/svg\" height=\"24px\"viewBox=\"0 0 24 24\"\n",
              "       width=\"24px\">\n",
              "    <path d=\"M0 0h24v24H0V0z\" fill=\"none\"/>\n",
              "    <path d=\"M18.56 5.44l.94 2.06.94-2.06 2.06-.94-2.06-.94-.94-2.06-.94 2.06-2.06.94zm-11 1L8.5 8.5l.94-2.06 2.06-.94-2.06-.94L8.5 2.5l-.94 2.06-2.06.94zm10 10l.94 2.06.94-2.06 2.06-.94-2.06-.94-.94-2.06-.94 2.06-2.06.94z\"/><path d=\"M17.41 7.96l-1.37-1.37c-.4-.4-.92-.59-1.43-.59-.52 0-1.04.2-1.43.59L10.3 9.45l-7.72 7.72c-.78.78-.78 2.05 0 2.83L4 21.41c.39.39.9.59 1.41.59.51 0 1.02-.2 1.41-.59l7.78-7.78 2.81-2.81c.8-.78.8-2.07 0-2.86zM5.41 20L4 18.59l7.72-7.72 1.47 1.35L5.41 20z\"/>\n",
              "  </svg>\n",
              "      </button>\n",
              "      \n",
              "  <style>\n",
              "    .colab-df-container {\n",
              "      display:flex;\n",
              "      flex-wrap:wrap;\n",
              "      gap: 12px;\n",
              "    }\n",
              "\n",
              "    .colab-df-convert {\n",
              "      background-color: #E8F0FE;\n",
              "      border: none;\n",
              "      border-radius: 50%;\n",
              "      cursor: pointer;\n",
              "      display: none;\n",
              "      fill: #1967D2;\n",
              "      height: 32px;\n",
              "      padding: 0 0 0 0;\n",
              "      width: 32px;\n",
              "    }\n",
              "\n",
              "    .colab-df-convert:hover {\n",
              "      background-color: #E2EBFA;\n",
              "      box-shadow: 0px 1px 2px rgba(60, 64, 67, 0.3), 0px 1px 3px 1px rgba(60, 64, 67, 0.15);\n",
              "      fill: #174EA6;\n",
              "    }\n",
              "\n",
              "    [theme=dark] .colab-df-convert {\n",
              "      background-color: #3B4455;\n",
              "      fill: #D2E3FC;\n",
              "    }\n",
              "\n",
              "    [theme=dark] .colab-df-convert:hover {\n",
              "      background-color: #434B5C;\n",
              "      box-shadow: 0px 1px 3px 1px rgba(0, 0, 0, 0.15);\n",
              "      filter: drop-shadow(0px 1px 2px rgba(0, 0, 0, 0.3));\n",
              "      fill: #FFFFFF;\n",
              "    }\n",
              "  </style>\n",
              "\n",
              "      <script>\n",
              "        const buttonEl =\n",
              "          document.querySelector('#df-9004ebf9-bbb7-411b-88b3-bc5c3bd5944c button.colab-df-convert');\n",
              "        buttonEl.style.display =\n",
              "          google.colab.kernel.accessAllowed ? 'block' : 'none';\n",
              "\n",
              "        async function convertToInteractive(key) {\n",
              "          const element = document.querySelector('#df-9004ebf9-bbb7-411b-88b3-bc5c3bd5944c');\n",
              "          const dataTable =\n",
              "            await google.colab.kernel.invokeFunction('convertToInteractive',\n",
              "                                                     [key], {});\n",
              "          if (!dataTable) return;\n",
              "\n",
              "          const docLinkHtml = 'Like what you see? Visit the ' +\n",
              "            '<a target=\"_blank\" href=https://colab.research.google.com/notebooks/data_table.ipynb>data table notebook</a>'\n",
              "            + ' to learn more about interactive tables.';\n",
              "          element.innerHTML = '';\n",
              "          dataTable['output_type'] = 'display_data';\n",
              "          await google.colab.output.renderOutput(dataTable, element);\n",
              "          const docLink = document.createElement('div');\n",
              "          docLink.innerHTML = docLinkHtml;\n",
              "          element.appendChild(docLink);\n",
              "        }\n",
              "      </script>\n",
              "    </div>\n",
              "  </div>\n",
              "  "
            ]
          },
          "metadata": {},
          "execution_count": 40
        }
      ]
    },
    {
      "cell_type": "markdown",
      "source": [
        "## Persentase setiap Klaster"
      ],
      "metadata": {
        "id": "HwwlrNUi2JNo"
      }
    },
    {
      "cell_type": "code",
      "source": [
        "# Mencari jumlah total seluruh cluster\n",
        "total = len(c0)+len(c1)\n",
        "\n",
        "# Mencari persentase setiap cluster\n",
        "p0 = (len(c0)/total)*100\n",
        "print(p0)\n",
        "p1 = (len(c1)/total)*100\n",
        "print(p1)"
      ],
      "metadata": {
        "colab": {
          "base_uri": "https://localhost:8080/"
        },
        "id": "AIGFhUnG2EUT",
        "outputId": "343bf069-dd55-40bb-ebe2-426acfc87306"
      },
      "execution_count": null,
      "outputs": [
        {
          "output_type": "stream",
          "name": "stdout",
          "text": [
            "50.053000000000004\n",
            "49.947\n"
          ]
        }
      ]
    },
    {
      "cell_type": "markdown",
      "source": [
        "Klaster pertama sebesar 50,05%, klaster kedua 49,97%\n",
        "\n",
        "\n",
        "\n",
        "\n",
        "\n"
      ],
      "metadata": {
        "id": "FTq93gs_2a4w"
      }
    },
    {
      "cell_type": "markdown",
      "source": [
        "## Download data setelah di klaster"
      ],
      "metadata": {
        "id": "aKmGT2TayEGp"
      }
    },
    {
      "cell_type": "code",
      "source": [
        "#download klaster pertama\n",
        "c0.to_csv('KlasterPertama.csv')\n",
        "#download klaster pertama\n",
        "c1.to_csv('KlasterKedua.csv')"
      ],
      "metadata": {
        "id": "97EAUdYd2tu1"
      },
      "execution_count": null,
      "outputs": []
    },
    {
      "cell_type": "code",
      "source": [
        "fig = plt.figure(figsize = (10, 5))\n",
        "plt.bar(['0', '1'], data.Klaster.value_counts(), width = 0.4)\n",
        "plt.xlabel(\"Label klaster\")\n",
        "plt.ylabel(\"Jumlah Data\")\n",
        "plt.title(\"Jumlah data pada tiap klaster\")\n",
        "plt.show()"
      ],
      "metadata": {
        "colab": {
          "base_uri": "https://localhost:8080/",
          "height": 350
        },
        "id": "08hMhBUeD5lG",
        "outputId": "1d1e458d-f9f7-4df0-fcce-9826729521df"
      },
      "execution_count": null,
      "outputs": [
        {
          "output_type": "display_data",
          "data": {
            "text/plain": [
              "<Figure size 720x360 with 1 Axes>"
            ],
            "image/png": "[encoded data removed]"
          },
          "metadata": {
            "needs_background": "light"
          }
        }
      ]
    },
    {
      "cell_type": "code",
      "source": [
        ""
      ],
      "metadata": {
        "id": "zIkoZDHTxAqQ"
      },
      "execution_count": null,
      "outputs": []
    }
  ]
}